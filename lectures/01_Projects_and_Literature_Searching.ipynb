{
 "cells": [
  {
   "cell_type": "markdown",
   "metadata": {
    "toc": true
   },
   "source": [
    "<h1>Table of Contents<span class=\"tocSkip\"></span></h1>\n",
    "<div class=\"toc\"><ul class=\"toc-item\"><li><span><a href=\"#Available-Projects:\" data-toc-modified-id=\"Available-Projects:-1\"><span class=\"toc-item-num\">1&nbsp;&nbsp;</span>Available Projects:</a></span><ul class=\"toc-item\"><li><span><a href=\"#Data-Generation:\" data-toc-modified-id=\"Data-Generation:-1.1\"><span class=\"toc-item-num\">1.1&nbsp;&nbsp;</span>Data Generation:</a></span><ul class=\"toc-item\"><li><span><a href=\"#Molecular-Dynamics-at-the-Iron-water-Interface\" data-toc-modified-id=\"Molecular-Dynamics-at-the-Iron-water-Interface-1.1.1\"><span class=\"toc-item-num\">1.1.1&nbsp;&nbsp;</span>Molecular Dynamics at the Iron-water Interface</a></span></li><li><span><a href=\"#p-block-Dopants-for-Nitrogen-Fixation:\" data-toc-modified-id=\"p-block-Dopants-for-Nitrogen-Fixation:-1.1.2\"><span class=\"toc-item-num\">1.1.2&nbsp;&nbsp;</span>p-block Dopants for Nitrogen Fixation:</a></span></li></ul></li><li><span><a href=\"#Machine-Learning:\" data-toc-modified-id=\"Machine-Learning:-1.2\"><span class=\"toc-item-num\">1.2&nbsp;&nbsp;</span>Machine Learning:</a></span><ul class=\"toc-item\"><li><span><a href=\"#Hyperparameter-Optimization\" data-toc-modified-id=\"Hyperparameter-Optimization-1.2.1\"><span class=\"toc-item-num\">1.2.1&nbsp;&nbsp;</span>Hyperparameter Optimization</a></span></li><li><span><a href=\"#Latent-Space-Analysis\" data-toc-modified-id=\"Latent-Space-Analysis-1.2.2\"><span class=\"toc-item-num\">1.2.2&nbsp;&nbsp;</span>Latent Space Analysis</a></span></li></ul></li></ul></li><li><span><a href=\"#Basic-Search-Strategies\" data-toc-modified-id=\"Basic-Search-Strategies-2\"><span class=\"toc-item-num\">2&nbsp;&nbsp;</span>Basic Search Strategies</a></span><ul class=\"toc-item\"><li><span><a href=\"#Absolute-Searches\" data-toc-modified-id=\"Absolute-Searches-2.1\"><span class=\"toc-item-num\">2.1&nbsp;&nbsp;</span>Absolute Searches</a></span></li><li><span><a href=\"#Relative-Searches\" data-toc-modified-id=\"Relative-Searches-2.2\"><span class=\"toc-item-num\">2.2&nbsp;&nbsp;</span>Relative Searches</a></span></li><li><span><a href=\"#Continuous-Updates\" data-toc-modified-id=\"Continuous-Updates-2.3\"><span class=\"toc-item-num\">2.3&nbsp;&nbsp;</span>Continuous Updates</a></span></li></ul></li><li><span><a href=\"#Evaluating-Journals\" data-toc-modified-id=\"Evaluating-Journals-3\"><span class=\"toc-item-num\">3&nbsp;&nbsp;</span>Evaluating Journals</a></span></li><li><span><a href=\"#Managing-References\" data-toc-modified-id=\"Managing-References-4\"><span class=\"toc-item-num\">4&nbsp;&nbsp;</span>Managing References</a></span></li><li><span><a href=\"#A-basic-algorithm-for-searching-a-new-subject\" data-toc-modified-id=\"A-basic-algorithm-for-searching-a-new-subject-5\"><span class=\"toc-item-num\">5&nbsp;&nbsp;</span>A basic algorithm for searching a new subject</a></span></li><li><span><a href=\"#Reading-a-Paper:-Typical-Paper-Format\" data-toc-modified-id=\"Reading-a-Paper:-Typical-Paper-Format-6\"><span class=\"toc-item-num\">6&nbsp;&nbsp;</span>Reading a Paper: Typical Paper Format</a></span></li><li><span><a href=\"#Basic-Reading-Strategy\" data-toc-modified-id=\"Basic-Reading-Strategy-7\"><span class=\"toc-item-num\">7&nbsp;&nbsp;</span>Basic Reading Strategy</a></span><ul class=\"toc-item\"><li><span><a href=\"#Zooming-In\" data-toc-modified-id=\"Zooming-In-7.1\"><span class=\"toc-item-num\">7.1&nbsp;&nbsp;</span>Zooming In</a></span></li><li><span><a href=\"#Arbitrary-guideline-for-&quot;zooming-in&quot;\" data-toc-modified-id=\"Arbitrary-guideline-for-&quot;zooming-in&quot;-7.2\"><span class=\"toc-item-num\">7.2&nbsp;&nbsp;</span>Arbitrary guideline for \"zooming in\"</a></span></li></ul></li><li><span><a href=\"#Directions-for-Literature-Search:\" data-toc-modified-id=\"Directions-for-Literature-Search:-8\"><span class=\"toc-item-num\">8&nbsp;&nbsp;</span>Directions for Literature Search:</a></span></li><li><span><a href=\"#Questions-for-Literature-Review-Assignment:\" data-toc-modified-id=\"Questions-for-Literature-Review-Assignment:-9\"><span class=\"toc-item-num\">9&nbsp;&nbsp;</span>Questions for Literature Review Assignment:</a></span><ul class=\"toc-item\"><li><span><a href=\"#Skimming-questions:\" data-toc-modified-id=\"Skimming-questions:-9.1\"><span class=\"toc-item-num\">9.1&nbsp;&nbsp;</span>Skimming questions:</a></span><ul class=\"toc-item\"><li><span><a href=\"#Summarize-the-overall-goal-of-the-work.\" data-toc-modified-id=\"Summarize-the-overall-goal-of-the-work.-9.1.1\"><span class=\"toc-item-num\">9.1.1&nbsp;&nbsp;</span>Summarize the overall goal of the work.</a></span></li><li><span><a href=\"#What-figure-is-most-interesting-or-relevant?-What-is-the-main-thing-you-learned-from-it?\" data-toc-modified-id=\"What-figure-is-most-interesting-or-relevant?-What-is-the-main-thing-you-learned-from-it?-9.1.2\"><span class=\"toc-item-num\">9.1.2&nbsp;&nbsp;</span>What figure is most interesting or relevant? What is the main thing you learned from it?</a></span></li></ul></li><li><span><a href=\"#Reading-questions:\" data-toc-modified-id=\"Reading-questions:-9.2\"><span class=\"toc-item-num\">9.2&nbsp;&nbsp;</span>Reading questions:</a></span><ul class=\"toc-item\"><li><span><a href=\"#What-is-the-strongest-point-of-the-paper?\" data-toc-modified-id=\"What-is-the-strongest-point-of-the-paper?-9.2.1\"><span class=\"toc-item-num\">9.2.1&nbsp;&nbsp;</span>What is the strongest point of the paper?</a></span></li><li><span><a href=\"#What-is-the-weakest-point-of-the-paper?\" data-toc-modified-id=\"What-is-the-weakest-point-of-the-paper?-9.2.2\"><span class=\"toc-item-num\">9.2.2&nbsp;&nbsp;</span>What is the weakest point of the paper?</a></span></li><li><span><a href=\"#How-does-the-paper-relate-to-your-research-project?\" data-toc-modified-id=\"How-does-the-paper-relate-to-your-research-project?-9.2.3\"><span class=\"toc-item-num\">9.2.3&nbsp;&nbsp;</span>How does the paper relate to your research project?</a></span></li></ul></li></ul></li><li><span><a href=\"#An-Example:\" data-toc-modified-id=\"An-Example:-10\"><span class=\"toc-item-num\">10&nbsp;&nbsp;</span>An Example:</a></span></li><li><span><a href=\"#For-next-week:\" data-toc-modified-id=\"For-next-week:-11\"><span class=\"toc-item-num\">11&nbsp;&nbsp;</span>For next week:</a></span></li></ul></div>"
   ]
  },
  {
   "cell_type": "markdown",
   "metadata": {},
   "source": [
    "# Basics of Searching and Reading Scientific Literature"
   ]
  },
  {
   "cell_type": "markdown",
   "metadata": {},
   "source": [
    "## Available Projects:\n",
    "\n",
    "### Data Generation:\n",
    "\n",
    "#### Molecular Dynamics at the Iron-water Interface \n",
    "\n",
    "**Advisor:** Ben Comer\n",
    "\n",
    "![Iron_Water MD](images/Fe_interface.gif \"Iron MD\")\n",
    "\n",
    "#### p-block Dopants for Nitrogen Fixation:\n",
    "\n",
    "**Advisor:** Ben Comer\n",
    "\n",
    "![](images/pblock.png \"pBlock\")\n",
    "\n",
    "\n",
    "### Machine Learning:\n",
    "\n",
    "You will be provided with a set of data corresponding to the inputs (atomic structures) and outputs (energies and forces) for a set of atomistic simulations from an iron-water interface. Your task will be to use existing software packages to i) vectorize the atomic structures using various strategies and 2) train a neural network model to predict the energies and forces given a new atomic structure. You will be provided with an initial script and the current best model, and your goal is to modify the hyper-parameters of the vectorization and neural network training to improve the accuracy of the machine learning model.\n",
    "\n",
    "#### Hyperparameter Optimization\n",
    "\n",
    "**Advisor:** Ben Comer\n",
    "\n",
    "#### Latent Space Analysis\n",
    "\n",
    "**Advisor:** Ray Lei\n"
   ]
  },
  {
   "cell_type": "markdown",
   "metadata": {
    "collapsed": true
   },
   "source": [
    "## Basic Search Strategies\n",
    "\n",
    "- Absolute Searching\n",
    "\n",
    "- Relative Searching\n",
    "\n",
    "- Continuous Updates\n",
    "\n",
    "### Absolute Searches\n",
    "\n",
    "- Use databases such as [Web of Science](https://apps.webofknowledge.com/WOS_GeneralSearch_input.do?product=WOS&search_mode=GeneralSearch&SID=4EfVjR2mo9oBIcGKmob&preferencesSaved=) and/or [Scopus](https://www.scopus.com/home.uri).\n",
    "\n",
    "- Search for terms that you think are relevant to your interest\n",
    "\t- Use wildcards!\n",
    "\t- Constrain to reviews if necessary.\n",
    "\t- Use \"exclude\" functionality to avoid unwanted topics.\n",
    "\t- Remember that you can \"refine\" searches.\n",
    "- Sorting is important!\n",
    "\t- Most relevant.\n",
    "\t- Most recent.\n",
    "\t- Highest cited.\n",
    "    \n",
    "### Relative Searches\n",
    "\n",
    "- Start with a review paper or a few very relevant papers.\n",
    "\n",
    "- Go through references list, particularly introductory references.\n",
    "\t- Use [Crossref Metadata search](http://search.crossref.org/) to find articles from citations.\n",
    "\t- Some journal sites will have links to cited works.\n",
    "\t- Look for commonly cited authors.\n",
    "\n",
    "- Many journal websites will have a \"cited by\" column. This can be very valuable.\n",
    "\n",
    "- Search Web of Science or Scopus by author, including keywords as necessary.\n",
    "\n",
    "### Continuous Updates\n",
    "\n",
    "- Once you get an overview of a branch of literature you still need to stay current!\n",
    "\n",
    "- Different communities have different feeds. \n",
    "\t- For machine learning, materials, and quantum mechanics I recommend [this](https://citrine.us3.list-manage.com/subscribe?u=014639e57e11aa6a7d2f2e4a8&id=60e6d7fee0) feed curated by Citrine: https://citrine.us3.list-manage.com/subscribe?u=014639e57e11aa6a7d2f2e4a8&id=60e6d7fee0\n",
    "\t- You can set up alerts for Google Scholar searches."
   ]
  },
  {
   "cell_type": "markdown",
   "metadata": {},
   "source": [
    "## Evaluating Journals\n",
    "\n",
    "- Impact factor is the canonical measure of importance\n",
    "\t- Nature, Science, PNAS\n",
    "\t- Nature family journals\n",
    "\t- JACS (chemistry), Physical Review (physics)\n",
    "\n",
    "\n",
    "![](images/eigenfactor.png \"Eigenfactor image\")\n",
    "\n",
    "\n",
    "- [Eigenfactor.org](http://www.eigenfactor.org/projects/well-formed/radial.html) is a useful tool for visualizing journal impact."
   ]
  },
  {
   "cell_type": "markdown",
   "metadata": {},
   "source": [
    "## Managing References \n",
    "\n",
    "- Drinking from the firehose: Entering a new field will lead to information overload.\n",
    "\t- Abstracts are your friend. Use them to differentiate useful from non-useful papers with minimal overhead.\n",
    "\t- Learn to skim papers before reading them deeply.\n",
    "\t- Prioritize the papers you read carefully.\n",
    "\n",
    "- Storing and Organizing\n",
    "\t- Mendeley offers good cross-platform literature management and sharing.\n",
    "\t- Project-specific Bibtex files.\n",
    "\t- Various other software available.\n",
    "\n",
    "- There are some \"recommender\" services through Mendeley, and others, that can be used to leverage your existing library to keep up with new papers."
   ]
  },
  {
   "cell_type": "markdown",
   "metadata": {},
   "source": [
    "## A basic algorithm for searching a new subject\n",
    "\n",
    "1) Absolute search: Identify <10 key papers\n",
    "\t- Review papers (most highly cited)\n",
    "\t- Most relevant papers\n",
    "2) Relative search: Identify <5 top authors\n",
    "\t- Use citations from key papers\n",
    "\t- Find most highly cited relevant papers from these authors\n",
    "3) Absolute search: Refine search terms based on current reading\n",
    "\t- Most relevant papers\n",
    "\t- Newest papers\n",
    "4) Repeat steps 2-3 as necessary. \n",
    "\n",
    "- Most topics can be summarized in <100 well-chosen papers.\n",
    "\t- 1-3 review papers\n",
    "\t- All highly-cited older papers\n",
    "\t- Newest high-impact papers (Nature, Science, PNAS, Phys. Rev.)\n",
    "\t- Balance of technical vs. perspective\n",
    "\t- Balance of theory/experiment\n",
    "\t- Balance of different authors/groups"
   ]
  },
  {
   "cell_type": "markdown",
   "metadata": {},
   "source": [
    "## Reading a Paper: Typical Paper Format\n",
    "\n",
    "- Introduction\n",
    "\t- Motivation for why the work is important\n",
    "\t- Context of previous work in related areas\n",
    "- Results & Discussion\n",
    "\t- Results of experiments/calculations\n",
    "\t- Analysis of data\n",
    "\t- Discussion of hypotheses verified\n",
    "\t- Discussion of relevance to larger problem(s)\n",
    "- Experimental/Methods\n",
    "\t- Detailed explanation outlining how the work could be repeated\n",
    "- Conclusion\n",
    "\t- Summary of importance of work\n",
    "\t- Summary of question answered/hypothesis verified\n",
    "- Appendices/Supplementary Information\n",
    "\t- Data and discussion that is only relevant for repeating work\n",
    "\t- Discussion of details/decisions that would not affect conclusions\n"
   ]
  },
  {
   "cell_type": "markdown",
   "metadata": {},
   "source": [
    "## Basic Reading Strategy\n",
    "\n",
    "###  Zooming In\n",
    "- Iteration 1: Skim the paper\n",
    "\t- Read abstract\n",
    "\t- Look at figures and captions\n",
    "\t- Look for relevant equations/tables\n",
    "\t- Read conclusion\n",
    "- Iteration 2: Read the paper\n",
    "\t- Read introduction, results, discussion\n",
    "\t- Skim experimental/methods\n",
    "\t- Take notes! Store relevant keywords in citation manager.\n",
    "- Iteration 3: Deep Dive\n",
    "\t- Read experimental/methods\n",
    "\t- Read supplementary information\n",
    "\t- Implement equations/methods\n",
    "\n",
    "\n",
    "###  Arbitrary guideline for \"zooming in\"\n",
    "- Skim about 70-90% of papers from a search\n",
    "- Read about 50% of the papers you skim\n",
    "- Deep dive about 10% of the papers you read"
   ]
  },
  {
   "cell_type": "markdown",
   "metadata": {},
   "source": [
    "## Directions for Literature Search:\n",
    "\n",
    "Using the strategies outlined above, identify a peer-reviewed scientific paper that is relevant to your VIP project for this semester. First, skim the paper and answer the \"Skimming questions\" outlined below. Next, read the paper and answer the \"Reading Questions\". Submit your answers as a text file using the template available at `files/lit_review_template.txt`. You can replace all text `<inside of angle brackets>` with your answers."
   ]
  },
  {
   "cell_type": "markdown",
   "metadata": {},
   "source": [
    "## Questions for Literature Review Assignment:\n",
    "\n",
    "### Skimming questions:\n",
    "\n",
    "#### Summarize the overall goal of the work.\n",
    "\n",
    "#### What figure is most interesting or relevant? What is the main thing you learned from it?\n",
    "\n",
    "### Reading questions:\n",
    "\n",
    "#### What is the strongest point of the paper?\n",
    "\n",
    "#### What is the weakest point of the paper?\n",
    "\n",
    "#### How does the paper relate to your research project?"
   ]
  },
  {
   "cell_type": "markdown",
   "metadata": {},
   "source": [
    "## An Example:\n",
    "\n",
    "```\n",
    "Name: AJ Medford\n",
    "Paper: Wellendorff, J., Lundgaard, K. T., Møgelhøj, A., Petzold, V., Landis, D. D., Nørskov, J. K., … Jacobsen, K. W. (2012). Density functionals for surface science: Exchange-correlation model development with Bayesian error estimation. Physical Review B, 85(23). doi:10.1103/physrevb.85.235149\n",
    "\n",
    "Skimming Questions:\n",
    "\n",
    "1) Summarize the overall goal of the work.\n",
    "\n",
    "A methodology for semiempirical density functional optimization, using regularization and cross-validation\n",
    "methods from machine learning, is developed.  A general-purpose density functional for\n",
    "surface science and catalysis studies should accurately describe bond breaking and formation in chemistry, solid\n",
    "state physics, and surface chemistry, and should preferably also include van der Waals dispersion interactions.\n",
    "Such a functional necessarily compromises between describing fundamentally different types of interactions,\n",
    "making transferability of the density functional approximation a key issue. \n",
    "\n",
    "2) What figure is most interesting or relevant? What is the main thing you learned from it?\n",
    "\n",
    "Figure 5 was most interesting because it demonstrates that the approach yields an *ensemble* of approximations.\n",
    "\n",
    "\n",
    "Reading Questions:\n",
    "\n",
    "3) What is the strongest point of the paper?\n",
    "\n",
    "The fact that the functional has a built-in estimate of the error that can generalize to systems outside the training space.\n",
    "\n",
    "4) What is the weakest point of the paper?\n",
    "\n",
    "The model space they use is not complete, so the error of the functionals is still relatively large.\n",
    "\n",
    "5) How does the paper relate to your research project?\n",
    "\n",
    "This paper uses a combination of quantum-mechanical simulations (DFT) and big-data techniques to establish a new way of doing DFT simulations.\n",
    "```"
   ]
  },
  {
   "cell_type": "markdown",
   "metadata": {},
   "source": [
    "## For next week:\n",
    "\n",
    "* Be sure to bring VIP notebooks.\n",
    "* Finalize your group and projects.\n",
    "* Install Anaconda suite (Python 3.6, Jupyter, Spyder, etc.)"
   ]
  },
  {
   "cell_type": "code",
   "execution_count": null,
   "metadata": {},
   "outputs": [],
   "source": []
  },
  {
   "cell_type": "code",
   "execution_count": null,
   "metadata": {},
   "outputs": [],
   "source": []
  },
  {
   "cell_type": "code",
   "execution_count": null,
   "metadata": {},
   "outputs": [],
   "source": []
  }
 ],
 "metadata": {
  "kernelspec": {
   "display_name": "Python 3",
   "language": "python",
   "name": "python3"
  },
  "language_info": {
   "codemirror_mode": {
    "name": "ipython",
    "version": 3
   },
   "file_extension": ".py",
   "mimetype": "text/x-python",
   "name": "python",
   "nbconvert_exporter": "python",
   "pygments_lexer": "ipython3",
   "version": "3.6.3"
  },
  "toc": {
   "base_numbering": 1,
   "nav_menu": {},
   "number_sections": true,
   "sideBar": true,
   "skip_h1_title": true,
   "title_cell": "Table of Contents",
   "title_sidebar": "Contents",
   "toc_cell": true,
   "toc_position": {},
   "toc_section_display": true,
   "toc_window_display": false
  }
 },
 "nbformat": 4,
 "nbformat_minor": 2
}
