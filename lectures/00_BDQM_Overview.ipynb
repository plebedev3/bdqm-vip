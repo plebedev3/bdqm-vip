{
 "cells": [
  {
   "cell_type": "markdown",
   "metadata": {
    "toc": true
   },
   "source": [
    "<h1>Table of Contents<span class=\"tocSkip\"></span></h1>\n",
    "<div class=\"toc\"><ul class=\"toc-item\"><li><span><a href=\"#About-Me\" data-toc-modified-id=\"About-Me-1\"><span class=\"toc-item-num\">1&nbsp;&nbsp;</span>About Me</a></span></li><li><span><a href=\"#Marker-toss\" data-toc-modified-id=\"Marker-toss-2\"><span class=\"toc-item-num\">2&nbsp;&nbsp;</span>Marker toss</a></span><ul class=\"toc-item\"><li><span><a href=\"#Instructions\" data-toc-modified-id=\"Instructions-2.1\"><span class=\"toc-item-num\">2.1&nbsp;&nbsp;</span>Instructions</a></span></li><li><span><a href=\"#Examples-of-interesting-things\" data-toc-modified-id=\"Examples-of-interesting-things-2.2\"><span class=\"toc-item-num\">2.2&nbsp;&nbsp;</span>Examples of interesting things</a></span></li></ul></li><li><span><a href=\"#How-does-VIP-work?\" data-toc-modified-id=\"How-does-VIP-work?-3\"><span class=\"toc-item-num\">3&nbsp;&nbsp;</span>How does VIP work?</a></span></li><li><span><a href=\"#How-is-VIP-graded?\" data-toc-modified-id=\"How-is-VIP-graded?-4\"><span class=\"toc-item-num\">4&nbsp;&nbsp;</span>How is VIP graded?</a></span></li><li><span><a href=\"#VIP-is-not-like-a-regular-course\" data-toc-modified-id=\"VIP-is-not-like-a-regular-course-5\"><span class=\"toc-item-num\">5&nbsp;&nbsp;</span>VIP is not like a regular course</a></span></li><li><span><a href=\"#Group-Communication:\" data-toc-modified-id=\"Group-Communication:-6\"><span class=\"toc-item-num\">6&nbsp;&nbsp;</span>Group Communication:</a></span></li><li><span><a href=\"#Team-Structure-:-New-Students\" data-toc-modified-id=\"Team-Structure-:-New-Students-7\"><span class=\"toc-item-num\">7&nbsp;&nbsp;</span>Team Structure : New Students</a></span></li><li><span><a href=\"#Team-Structure:-Returning-Students\" data-toc-modified-id=\"Team-Structure:-Returning-Students-8\"><span class=\"toc-item-num\">8&nbsp;&nbsp;</span>Team Structure: Returning Students</a></span></li><li><span><a href=\"#Available-Projects:-Data-Generation-and-Machine-Learning\" data-toc-modified-id=\"Available-Projects:-Data-Generation-and-Machine-Learning-9\"><span class=\"toc-item-num\">9&nbsp;&nbsp;</span>Available Projects: Data Generation and Machine Learning</a></span></li><li><span><a href=\"#Team-selection-and-goals\" data-toc-modified-id=\"Team-selection-and-goals-10\"><span class=\"toc-item-num\">10&nbsp;&nbsp;</span>Team selection and goals</a></span></li><li><span><a href=\"#Standard-meeting-format\" data-toc-modified-id=\"Standard-meeting-format-11\"><span class=\"toc-item-num\">11&nbsp;&nbsp;</span>Standard meeting format</a></span></li><li><span><a href=\"#Week-1-Assignment\" data-toc-modified-id=\"Week-1-Assignment-12\"><span class=\"toc-item-num\">12&nbsp;&nbsp;</span>Week 1 Assignment</a></span></li><li><span><a href=\"#Software-Installation:\" data-toc-modified-id=\"Software-Installation:-13\"><span class=\"toc-item-num\">13&nbsp;&nbsp;</span>Software Installation:</a></span><ul class=\"toc-item\"><li><span><a href=\"#Install-Anaconda3\" data-toc-modified-id=\"Install-Anaconda3-13.1\"><span class=\"toc-item-num\">13.1&nbsp;&nbsp;</span>Install Anaconda3</a></span></li><li><span><a href=\"#Ensure-you-can-access-a-linux/unix-prompt\" data-toc-modified-id=\"Ensure-you-can-access-a-linux/unix-prompt-13.2\"><span class=\"toc-item-num\">13.2&nbsp;&nbsp;</span>Ensure you can access a linux/unix prompt</a></span><ul class=\"toc-item\"><li><span><a href=\"#Windows-users:\" data-toc-modified-id=\"Windows-users:-13.2.1\"><span class=\"toc-item-num\">13.2.1&nbsp;&nbsp;</span>Windows users:</a></span></li><li><span><a href=\"#Mac-users:\" data-toc-modified-id=\"Mac-users:-13.2.2\"><span class=\"toc-item-num\">13.2.2&nbsp;&nbsp;</span>Mac users:</a></span></li></ul></li></ul></li></ul></div>"
   ]
  },
  {
   "cell_type": "markdown",
   "metadata": {},
   "source": [
    "# Big Data & Quantum Mechanics\n",
    " \n",
    " \n",
    "<br>\n",
    "<center> **Overview of Medford Group research** </center>\n",
    "\n",
    "<img src=\"images/medford_group_bg.png\">\n",
    "\n"
   ]
  },
  {
   "cell_type": "markdown",
   "metadata": {},
   "source": [
    "## About Me\n",
    "\n",
    "- Started as a professor (and VIP) in Spring 2017.\n",
    "- Background in computational catalysis and chemistry (Ph.D in ChBE from Stanford)\n",
    "- Limited experience in development of scientific software (CatMAP python package)\n",
    "- Experience with intersection of data and materials science (posdoc in Kalidindi group at GT)\n",
    "- Interest in applying data science techniques to problems in quantum chemistry and physics."
   ]
  },
  {
   "cell_type": "markdown",
   "metadata": {},
   "source": [
    "## Marker toss\n",
    "\n",
    "### Instructions\n",
    "\n",
    "When you catch the marker tell everyone your *name and something interesting about yourself*, then toss the marker to anyone who hasn't been introduced. If you catch the marker twice, toss it back to whoever threw it to you.\n",
    "\n",
    "### Examples of interesting things\n",
    "\n",
    "- Favorite board or video game\n",
    "- Best city or country you have visited\n",
    "- Last movie you saw or book you read\n",
    "- A quote you like\n",
    "- The craziest food you have ever eaten"
   ]
  },
  {
   "cell_type": "markdown",
   "metadata": {},
   "source": [
    "## How does VIP work?\n",
    "\n",
    "The premise of VIP is teams working on projects. Much like a real-world engineering team, individual members work on different aspects of the project. Team members range from sophomores through graduate students, from first-time participants to students who have been involved for four or more semesters. Some students take the course for one credit, and others take it for two credits; naturally, the bar will be higher for those taking it for two credits."
   ]
  },
  {
   "cell_type": "markdown",
   "metadata": {},
   "source": [
    "## How is VIP graded?\n",
    "\n",
    "You will receive a grade for the course based on three criteria:\n",
    "\n",
    "- Documentation (33.3%): Based on your *VIP notebook* where all your work should be documented.\n",
    "- Personal Accomplishments (33.3%): Based on how well you complete tasks and achieve your research goals.\n",
    "- Teamwork (33.3%): Peer evaluations will be used to establish how well you work on a team.\n",
    "\n",
    "Grading process:\n",
    "- Midterm: Submit VIP notebooks, personal accomplishment documentation (and peer grading), literature review, and update slides. Grade is *advisory*.\n",
    "\n",
    "- Final: Identical to midterm, but grade is *final*\n",
    "\n",
    "The following deliverables are expected at the midterm and final evaluations. Note that the \"personal accomplishment\" documentation will be graded using a combination of peer grading and instructor grading, so you will also need to complete the peer grading at each point.\n",
    "\n",
    "- Deliverables: \n",
    "    - VIP notebooks\n",
    "    - Personal accomplishment documentation\n",
    "    - Literature review\n",
    "    - Slides from updates\n",
    "    - Peer grading\n",
    "    - Peer evaluation\n",
    "\n",
    "See syllabus for more details."
   ]
  },
  {
   "cell_type": "markdown",
   "metadata": {},
   "source": [
    "## VIP is not like a regular course \n",
    "\n",
    "Regular courses have a clear direction:\n",
    "\n",
    "<img src=\"images/mario.png\">\n",
    "\n",
    "VIP lets you choose your own adventure:\n",
    "\n",
    "<img src=\"images/zelda.jpeg\">\n"
   ]
  },
  {
   "cell_type": "markdown",
   "metadata": {},
   "source": [
    "## Group Communication:\n",
    "\n",
    "- Slack group used for all communication, join using [this link](https://join.slack.com/t/medfordgroup/shared_invite/enQtNzI2NTcxNTMyNzIxLTdlNDQ3OTE0YjcxOWYyNTQxNDZiZjFjNmIwMzRlYWVhYWY5NWY2MjFkYTAwNzA1YTM1ZDM4ZTAzMDRlNGI1ZDE)\n",
    "\t- vip: all VIP students should join. Official announcements will be posted here.\n",
    "\t- training: discussion related to training project.\n",
    "\t- general: channel for general discussions with the whole group.\n",
    "    \n",
    " "
   ]
  },
  {
   "cell_type": "markdown",
   "metadata": {},
   "source": [
    "## Team Structure : New Students\n",
    "\n",
    "- Complete a training project involving DFT adsorption energy calculation and neural network training.\n",
    "- Training project goals document [available here](https://github.com/medford-group/bdqm-vip/blob/master/project_descriptions/training.md).\n",
    "\n",
    "New students will form 3 sub-teams of 4-5. You are encouraged to ask returning members for tips, documentation, and resources on how to complete this excercise. If you complete the training goals by the end of the semester you can join the sub-team of your choice."
   ]
  },
  {
   "cell_type": "markdown",
   "metadata": {},
   "source": [
    "## Team Structure: Returning Students\n",
    "\n",
    "- Returning students select sub-teams based on projects emerging from last semester\n",
    "- Two types of projects: \n",
    "    * data generation: application of quantum-mechanical simulations\n",
    "    * machine learning( training models using big datasets generated from quantum mechanics   \n",
    "- Project descriptions are (or will be) [available here](https://github.com/medford-group/bdqm-vip/tree/master/project_descriptions)."
   ]
  },
  {
   "cell_type": "markdown",
   "metadata": {},
   "source": [
    "## Available Projects: Data Generation and Machine Learning\n",
    "\n",
    "- Water on iron surfaces\n",
    "- Pure water\n",
    "\n",
    "More info next week..."
   ]
  },
  {
   "cell_type": "markdown",
   "metadata": {},
   "source": [
    "## Team selection and goals\n",
    "\n",
    "Teams and goals must be finalized by week 2. Teams should have 2-5 people and a self-selected leader. Returning students will be assigned as leaders by default where applicable.\n",
    "\n",
    "Continuing teams: The team leader is responsible for determining the team goals for the semester. If you choose to revise your midterm goals, the revised goals are due by the end of Week 2.\n",
    "\n",
    "New teams: A set of suggested goals will be provided. These may be revised as needed.\n",
    "\n",
    "Notes on goals:\n",
    "\n",
    "- Goals can be revised after midterms, so don't stress too much about the initial goals. The main thing is that you have a plan for how to get started.\n",
    "\n",
    "- Individuals can revise the goals to be more specific and individual (e.g. divide team goals into member-specific tasks). If goals are not revised then each student will be responsible for team goals."
   ]
  },
  {
   "cell_type": "markdown",
   "metadata": {},
   "source": [
    "## Standard meeting format\n",
    "\n",
    "Meetings will follow one of two formats:\n",
    "\n",
    "* Lecture-based meetings: An instructor will give a short lecture or guide a workshop to achieve a specific skillset related to the training exercise. This is strongly recommended for students completing the training project, and other students are also encouraged to attend.\n",
    "\n",
    "\n",
    "* Update meetings: Once teams are established, a schedule will be released for sub-team updates. During an update lecture half of the subteams will give a short 5-10 minute update presentation describing recent progress and challenges. Use of slides or visual demonstrations are encouraged but not required. Any remaining time will be used for an in-class \"office hours\" session to get feedback from instructors.\n",
    "\n",
    "**Note:** If your team is scheduled for a sub-team update and nobody is present then everyone from the group will lose 1/2 point (out of 5) from the documentation grade. If you cannot attend during your update please confirm with an instructor at least 24 hours ahead of time."
   ]
  },
  {
   "cell_type": "markdown",
   "metadata": {},
   "source": [
    "## Week 1 Assignment\n",
    "\n",
    "- Join the Slack channel\n",
    "- Choose your group or sub-team project\n",
    "- Install necessary software following instructions below."
   ]
  },
  {
   "cell_type": "markdown",
   "metadata": {},
   "source": [
    "## Software Installation:\n",
    "\n",
    "### Install Anaconda3\n",
    "\n",
    "We'll be using Python3 and Jupyter notebooks extenstively in this class. To access this easily, we'll need to install anaconda3. To do that, go to the anaconda website below and simply follow the buttons to download and install it (ensure that you're downloading the correct version for your operating system.)\n",
    "\n",
    "https://www.anaconda.com/distribution/\n",
    "\n",
    "### Ensure you can access a linux/unix prompt\n",
    "\n",
    "#### Windows users:\n",
    "Please install the windows ubuntu subsystem using these instructions:\n",
    "\n",
    "https://docs.microsoft.com/en-us/windows/wsl/install-win10\n",
    "\n",
    "#### Mac users:\n",
    "Be sure you can open a [terminal](https://www.youtube.com/watch?v=zw7Nd67_aFw)"
   ]
  }
 ],
 "metadata": {
  "kernelspec": {
   "display_name": "Python 3",
   "language": "python",
   "name": "python3"
  },
  "language_info": {
   "codemirror_mode": {
    "name": "ipython",
    "version": 3
   },
   "file_extension": ".py",
   "mimetype": "text/x-python",
   "name": "python",
   "nbconvert_exporter": "python",
   "pygments_lexer": "ipython3",
   "version": "3.6.9"
  },
  "toc": {
   "base_numbering": 1,
   "nav_menu": {},
   "number_sections": true,
   "sideBar": true,
   "skip_h1_title": true,
   "title_cell": "Table of Contents",
   "title_sidebar": "Contents",
   "toc_cell": true,
   "toc_position": {},
   "toc_section_display": true,
   "toc_window_display": false
  }
 },
 "nbformat": 4,
 "nbformat_minor": 2
}
